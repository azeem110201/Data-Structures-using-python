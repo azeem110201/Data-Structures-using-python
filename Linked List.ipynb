{
 "cells": [
  {
   "cell_type": "code",
   "execution_count": 1,
   "metadata": {},
   "outputs": [],
   "source": [
    "class Node():\n",
    "    def __init__(self,data=None):\n",
    "        self.data = data\n",
    "        self.next = None\n",
    "\n",
    "class Linked_List(Node):\n",
    "    def __init__(self):\n",
    "        super().__init__()\n",
    "        self.first = None\n",
    "        self.len = 0\n",
    "    \n",
    "    def insertLast(self,key):\n",
    "        newNode = Node(key)\n",
    "        \n",
    "        if self.first == None:\n",
    "            self.first = newNode\n",
    "            \n",
    "        else:\n",
    "            temp = self.first\n",
    "            \n",
    "            while(temp.next != None):\n",
    "                temp = temp.next\n",
    "            \n",
    "            temp.next = newNode\n",
    "            \n",
    "    def insertFirst(self,key):\n",
    "        newNode = Node(key)\n",
    "        \n",
    "        if self.first == None:\n",
    "            self.first = newNode\n",
    "            \n",
    "        else:\n",
    "            newNode.next = self.first\n",
    "            self.first = newNode\n",
    "    \n",
    "    def insert_after(self,key,pos):\n",
    "        \"\"\"\n",
    "        Insert at a given position(pos)\n",
    "        \"\"\"\n",
    "        newNode = Node(key)\n",
    "        \n",
    "        if self.first == None:\n",
    "            self.first = newNode\n",
    "            \n",
    "        elif self.len == 1:\n",
    "            if pos == 1:\n",
    "                self.insertFirst(self,key)\n",
    "            else:\n",
    "                self.insertLast(self,key)\n",
    "        elif pos == 1:\n",
    "            self.insertFirst(self,key)\n",
    "        else:\n",
    "            temp = self.first\n",
    "            length = 1\n",
    "            while length != pos - 1:\n",
    "                temp = temp.next\n",
    "                length += 1\n",
    "            \n",
    "            newNode.next = temp.next\n",
    "            temp.next = newNode       \n",
    "    \n",
    "    \n",
    "    def length(self):\n",
    "        if self.first == None:\n",
    "            return \"Empty Linked List\"\n",
    "        else:\n",
    "            temp = self.first\n",
    "            while(temp != None):\n",
    "                self.len += 1\n",
    "                temp = temp.next\n",
    "                \n",
    "        return self.len        \n",
    "    \n",
    "    def deleteFirst(self):\n",
    "        if self.first == None:\n",
    "            return \"No node to delete\"\n",
    "        elif self.len == 1:\n",
    "            self.first = None\n",
    "        else:\n",
    "            self.first = self.first.next\n",
    "            \n",
    "    def delete_after(self,pos):\n",
    "        \"\"\"\n",
    "        delete the node at a given specific position\n",
    "        This function takes arguments as pos and delete the element present in that position and return the deleted value\n",
    "        \"\"\"\n",
    "        if self.first == None:\n",
    "            return \"Nothing to delete\"\n",
    "        elif self.first.next == None:\n",
    "            self.first = None\n",
    "            return \"There was only one element in the list and that is deleted\"\n",
    "        \n",
    "        else:\n",
    "            temp = self.first\n",
    "            curr = self.first\n",
    "            length = 1\n",
    "            while length != pos:\n",
    "                temp = temp.next\n",
    "                length += 1\n",
    "                \n",
    "            temp_data = temp.data\n",
    "            \n",
    "            while curr.next != temp:\n",
    "                curr = curr.next\n",
    "            \n",
    "            curr.next = temp.next\n",
    "            del temp\n",
    "            \n",
    "    def deleteLast(self):\n",
    "        if self.first == None:\n",
    "            return \"No node to delete\"\n",
    "        \n",
    "        elif self.len == 1:\n",
    "            self.first = None\n",
    "            return \"Their was only one node to delete\"\n",
    "        \n",
    "        else:\n",
    "            temp = self.first\n",
    "            while temp.next != None:\n",
    "                temp = temp.next\n",
    "                \n",
    "            temp_data = temp.data\n",
    "            curr = self.first\n",
    "            \n",
    "            while curr.next != temp:\n",
    "                curr = curr.next\n",
    "            \n",
    "            del temp\n",
    "            curr.next = None\n",
    "            \n",
    "            return temp_data\n",
    "            \n",
    "    def display(self):\n",
    "        if self.first != None:\n",
    "            temp = self.first\n",
    "            \n",
    "            while temp != None:\n",
    "                print(temp.data)\n",
    "                temp = temp.next\n",
    "        else:\n",
    "            return \"Nothing to return\"\n",
    "        \n",
    "    def display_first_data(self):\n",
    "        return self.first.data"
   ]
  },
  {
   "cell_type": "code",
   "execution_count": 2,
   "metadata": {},
   "outputs": [],
   "source": [
    "ll = Linked_List()"
   ]
  },
  {
   "cell_type": "code",
   "execution_count": 3,
   "metadata": {},
   "outputs": [],
   "source": [
    "ll.insertLast(10)\n",
    "ll.insertLast(20)\n",
    "ll.insertLast(30)\n",
    "ll.insertLast(40)"
   ]
  },
  {
   "cell_type": "code",
   "execution_count": 4,
   "metadata": {},
   "outputs": [
    {
     "name": "stdout",
     "output_type": "stream",
     "text": [
      "10\n",
      "20\n",
      "30\n",
      "40\n"
     ]
    }
   ],
   "source": [
    "ll.display()"
   ]
  },
  {
   "cell_type": "code",
   "execution_count": 5,
   "metadata": {},
   "outputs": [],
   "source": [
    "length = ll.length()"
   ]
  },
  {
   "cell_type": "code",
   "execution_count": 6,
   "metadata": {},
   "outputs": [
    {
     "data": {
      "text/plain": [
       "4"
      ]
     },
     "execution_count": 6,
     "metadata": {},
     "output_type": "execute_result"
    }
   ],
   "source": [
    "length"
   ]
  },
  {
   "cell_type": "code",
   "execution_count": 7,
   "metadata": {},
   "outputs": [],
   "source": [
    "ll.insertFirst(5)"
   ]
  },
  {
   "cell_type": "code",
   "execution_count": 8,
   "metadata": {},
   "outputs": [
    {
     "name": "stdout",
     "output_type": "stream",
     "text": [
      "5\n",
      "10\n",
      "20\n",
      "30\n",
      "40\n"
     ]
    }
   ],
   "source": [
    "ll.display()"
   ]
  },
  {
   "cell_type": "code",
   "execution_count": 9,
   "metadata": {},
   "outputs": [
    {
     "data": {
      "text/plain": [
       "5"
      ]
     },
     "execution_count": 9,
     "metadata": {},
     "output_type": "execute_result"
    }
   ],
   "source": [
    "ll.display_first_data()"
   ]
  },
  {
   "cell_type": "code",
   "execution_count": 10,
   "metadata": {},
   "outputs": [],
   "source": [
    "ll.insert_after(15,3)"
   ]
  },
  {
   "cell_type": "code",
   "execution_count": 11,
   "metadata": {},
   "outputs": [
    {
     "name": "stdout",
     "output_type": "stream",
     "text": [
      "5\n",
      "10\n",
      "15\n",
      "20\n",
      "30\n",
      "40\n"
     ]
    }
   ],
   "source": [
    "ll.display()"
   ]
  },
  {
   "cell_type": "code",
   "execution_count": 12,
   "metadata": {},
   "outputs": [],
   "source": [
    "ll.delete_after(3)"
   ]
  },
  {
   "cell_type": "code",
   "execution_count": 13,
   "metadata": {},
   "outputs": [
    {
     "name": "stdout",
     "output_type": "stream",
     "text": [
      "5\n",
      "10\n",
      "20\n",
      "30\n",
      "40\n"
     ]
    }
   ],
   "source": [
    "ll.display()"
   ]
  },
  {
   "cell_type": "code",
   "execution_count": null,
   "metadata": {},
   "outputs": [],
   "source": []
  },
  {
   "cell_type": "code",
   "execution_count": null,
   "metadata": {},
   "outputs": [],
   "source": []
  },
  {
   "cell_type": "code",
   "execution_count": null,
   "metadata": {},
   "outputs": [],
   "source": []
  },
  {
   "cell_type": "code",
   "execution_count": null,
   "metadata": {},
   "outputs": [],
   "source": []
  },
  {
   "cell_type": "code",
   "execution_count": null,
   "metadata": {},
   "outputs": [],
   "source": []
  },
  {
   "cell_type": "code",
   "execution_count": null,
   "metadata": {},
   "outputs": [],
   "source": []
  },
  {
   "cell_type": "code",
   "execution_count": null,
   "metadata": {},
   "outputs": [],
   "source": []
  },
  {
   "cell_type": "code",
   "execution_count": null,
   "metadata": {},
   "outputs": [],
   "source": []
  },
  {
   "cell_type": "code",
   "execution_count": null,
   "metadata": {},
   "outputs": [],
   "source": []
  },
  {
   "cell_type": "code",
   "execution_count": null,
   "metadata": {},
   "outputs": [],
   "source": []
  },
  {
   "cell_type": "code",
   "execution_count": null,
   "metadata": {},
   "outputs": [],
   "source": []
  },
  {
   "cell_type": "code",
   "execution_count": null,
   "metadata": {},
   "outputs": [],
   "source": []
  },
  {
   "cell_type": "code",
   "execution_count": null,
   "metadata": {},
   "outputs": [],
   "source": []
  },
  {
   "cell_type": "code",
   "execution_count": null,
   "metadata": {},
   "outputs": [],
   "source": []
  },
  {
   "cell_type": "code",
   "execution_count": null,
   "metadata": {},
   "outputs": [],
   "source": []
  },
  {
   "cell_type": "code",
   "execution_count": null,
   "metadata": {},
   "outputs": [],
   "source": []
  },
  {
   "cell_type": "code",
   "execution_count": 14,
   "metadata": {},
   "outputs": [
    {
     "data": {
      "text/plain": [
       "'Empty Linked List'"
      ]
     },
     "execution_count": 14,
     "metadata": {},
     "output_type": "execute_result"
    }
   ],
   "source": [
    "ll_2 = Linked_List()\n",
    "\n",
    "ll_2.length()"
   ]
  },
  {
   "cell_type": "code",
   "execution_count": 15,
   "metadata": {},
   "outputs": [],
   "source": [
    "ll_3 = Linked_List()"
   ]
  },
  {
   "cell_type": "code",
   "execution_count": 16,
   "metadata": {},
   "outputs": [],
   "source": [
    "ll_3.insertLast(10)\n",
    "ll_3.insertLast(100)\n",
    "ll_3.insertLast(1000)\n",
    "ll_3.insertLast(10000)"
   ]
  },
  {
   "cell_type": "code",
   "execution_count": 17,
   "metadata": {},
   "outputs": [
    {
     "name": "stdout",
     "output_type": "stream",
     "text": [
      "10\n",
      "100\n",
      "1000\n",
      "10000\n"
     ]
    }
   ],
   "source": [
    "ll_3.display()"
   ]
  },
  {
   "cell_type": "code",
   "execution_count": 18,
   "metadata": {},
   "outputs": [],
   "source": [
    "ll_3.deleteFirst()"
   ]
  },
  {
   "cell_type": "code",
   "execution_count": 19,
   "metadata": {},
   "outputs": [
    {
     "name": "stdout",
     "output_type": "stream",
     "text": [
      "100\n",
      "1000\n",
      "10000\n"
     ]
    }
   ],
   "source": [
    "ll_3.display()"
   ]
  },
  {
   "cell_type": "code",
   "execution_count": 20,
   "metadata": {},
   "outputs": [
    {
     "data": {
      "text/plain": [
       "10000"
      ]
     },
     "execution_count": 20,
     "metadata": {},
     "output_type": "execute_result"
    }
   ],
   "source": [
    "ll_3.deleteLast()"
   ]
  },
  {
   "cell_type": "code",
   "execution_count": 21,
   "metadata": {},
   "outputs": [
    {
     "name": "stdout",
     "output_type": "stream",
     "text": [
      "100\n",
      "1000\n"
     ]
    }
   ],
   "source": [
    "ll_3.display()"
   ]
  },
  {
   "cell_type": "code",
   "execution_count": 22,
   "metadata": {},
   "outputs": [
    {
     "data": {
      "text/plain": [
       "100"
      ]
     },
     "execution_count": 22,
     "metadata": {},
     "output_type": "execute_result"
    }
   ],
   "source": [
    "ll_3.display_first_data()"
   ]
  },
  {
   "cell_type": "code",
   "execution_count": 24,
   "metadata": {},
   "outputs": [
    {
     "data": {
      "text/plain": [
       "100"
      ]
     },
     "execution_count": 24,
     "metadata": {},
     "output_type": "execute_result"
    }
   ],
   "source": [
    "import gc\n",
    "gc.collect()"
   ]
  },
  {
   "cell_type": "code",
   "execution_count": null,
   "metadata": {},
   "outputs": [],
   "source": []
  }
 ],
 "metadata": {
  "kernelspec": {
   "display_name": "Python 3",
   "language": "python",
   "name": "python3"
  },
  "language_info": {
   "codemirror_mode": {
    "name": "ipython",
    "version": 3
   },
   "file_extension": ".py",
   "mimetype": "text/x-python",
   "name": "python",
   "nbconvert_exporter": "python",
   "pygments_lexer": "ipython3",
   "version": "3.7.4"
  }
 },
 "nbformat": 4,
 "nbformat_minor": 2
}
