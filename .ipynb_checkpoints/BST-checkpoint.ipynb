{
 "cells": [
  {
   "cell_type": "code",
   "execution_count": 1,
   "metadata": {},
   "outputs": [],
   "source": [
    "class Node():\n",
    "    def __init__(self,data):\n",
    "        self.data = data\n",
    "        self.right = None\n",
    "        self.left = None"
   ]
  },
  {
   "cell_type": "code",
   "execution_count": 2,
   "metadata": {},
   "outputs": [],
   "source": [
    "class BST(Node):\n",
    "    def __init__(self):\n",
    "        #super().__init__()\n",
    "        self.root = None\n",
    "        \n",
    "    def insert(self,key):\n",
    "        if self.root == None:\n",
    "            self.root = Node(key)\n",
    "            \n",
    "        else:\n",
    "            self.insert_(key,self.root)\n",
    "            \n",
    "    def insert_(self,key,curr):\n",
    "        if key <= curr.data:\n",
    "            if curr.left == None:\n",
    "                curr.left = Node(key)\n",
    "            else:\n",
    "                self.insert_(key,curr.left)\n",
    "        elif key > curr.data:\n",
    "            if curr.right == None:\n",
    "                curr.right = Node(key)\n",
    "            else:\n",
    "                self.insert_(key,curr.right)\n",
    "        else:\n",
    "            pass\n",
    "                \n",
    "                    \n",
    "            \n",
    "    def display(self,method):\n",
    "        if self.root:\n",
    "            if method == 'inorder':\n",
    "                self.inorder(self.root)\n",
    "            elif method == 'preorder':\n",
    "                self.preorder(self.root)\n",
    "            elif method == 'postorder':\n",
    "                self.postorder(self.root)\n",
    "            else:\n",
    "                pass\n",
    "    \n",
    "    def inorder(self,curr):\n",
    "        if curr:\n",
    "            self.inorder(curr.left)\n",
    "            print(curr.data)\n",
    "            self.inorder(curr.right)\n",
    "    \n",
    "    def preorder(self,curr):\n",
    "        if curr:\n",
    "            print(curr.data)\n",
    "            self.preorder(curr.left)\n",
    "            self.preorder(curr.right)\n",
    "            \n",
    "    def postorder(self,curr):\n",
    "        if curr:\n",
    "            self.postorder(curr.left)\n",
    "            self.postorder(curr.right) \n",
    "            print(curr.data)       \n",
    "        \n",
    "        "
   ]
  },
  {
   "cell_type": "code",
   "execution_count": 3,
   "metadata": {},
   "outputs": [],
   "source": [
    "bst = BST()"
   ]
  },
  {
   "cell_type": "code",
   "execution_count": 4,
   "metadata": {},
   "outputs": [],
   "source": [
    "bst.insert(30)\n",
    "bst.insert(10)\n",
    "bst.insert(40)\n",
    "bst.insert(5)\n",
    "bst.insert(20)\n",
    "bst.insert(50)"
   ]
  },
  {
   "cell_type": "code",
   "execution_count": 6,
   "metadata": {},
   "outputs": [
    {
     "name": "stdout",
     "output_type": "stream",
     "text": [
      "5\n",
      "20\n",
      "10\n",
      "50\n",
      "40\n",
      "30\n"
     ]
    }
   ],
   "source": [
    "bst.display('postorder')"
   ]
  },
  {
   "cell_type": "code",
   "execution_count": 7,
   "metadata": {},
   "outputs": [
    {
     "name": "stdout",
     "output_type": "stream",
     "text": [
      "5\n",
      "10\n",
      "20\n",
      "30\n",
      "40\n",
      "50\n"
     ]
    }
   ],
   "source": [
    "bst.display('inorder')"
   ]
  },
  {
   "cell_type": "code",
   "execution_count": 8,
   "metadata": {},
   "outputs": [
    {
     "name": "stdout",
     "output_type": "stream",
     "text": [
      "30\n",
      "10\n",
      "5\n",
      "20\n",
      "40\n",
      "50\n"
     ]
    }
   ],
   "source": [
    "bst.display('preorder')"
   ]
  },
  {
   "cell_type": "code",
   "execution_count": null,
   "metadata": {},
   "outputs": [],
   "source": []
  }
 ],
 "metadata": {
  "kernelspec": {
   "display_name": "Python 3",
   "language": "python",
   "name": "python3"
  },
  "language_info": {
   "codemirror_mode": {
    "name": "ipython",
    "version": 3
   },
   "file_extension": ".py",
   "mimetype": "text/x-python",
   "name": "python",
   "nbconvert_exporter": "python",
   "pygments_lexer": "ipython3",
   "version": "3.7.4"
  }
 },
 "nbformat": 4,
 "nbformat_minor": 2
}
