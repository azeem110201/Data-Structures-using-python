{
 "cells": [
  {
   "cell_type": "code",
   "execution_count": 1,
   "metadata": {},
   "outputs": [],
   "source": [
    "from Linked_list_python import Linked_List,Node"
   ]
  },
  {
   "cell_type": "code",
   "execution_count": 2,
   "metadata": {},
   "outputs": [],
   "source": [
    "l_1 = Linked_List()\n",
    "l_2 = Linked_List()"
   ]
  },
  {
   "cell_type": "code",
   "execution_count": 3,
   "metadata": {},
   "outputs": [],
   "source": [
    "l_1.insertLast(10)\n",
    "l_1.insertLast(20)\n",
    "l_1.insertLast(50)\n",
    "l_1.insertLast(80)\n",
    "l_1.insertLast(100)\n",
    "l_1.insertLast(120)"
   ]
  },
  {
   "cell_type": "code",
   "execution_count": 4,
   "metadata": {},
   "outputs": [],
   "source": [
    "l_2.insertLast(30)\n",
    "l_2.insertLast(40)\n",
    "l_2.insertLast(70)\n",
    "l_2.insertLast(90)\n",
    "l_2.insertLast(110)"
   ]
  },
  {
   "cell_type": "code",
   "execution_count": 5,
   "metadata": {},
   "outputs": [
    {
     "name": "stdout",
     "output_type": "stream",
     "text": [
      "10\n",
      "20\n",
      "50\n",
      "80\n",
      "100\n",
      "120\n"
     ]
    }
   ],
   "source": [
    "l_1.display()"
   ]
  },
  {
   "cell_type": "code",
   "execution_count": 6,
   "metadata": {},
   "outputs": [
    {
     "name": "stdout",
     "output_type": "stream",
     "text": [
      "30\n",
      "40\n",
      "70\n",
      "90\n",
      "110\n"
     ]
    }
   ],
   "source": [
    "l_2.display()"
   ]
  },
  {
   "cell_type": "code",
   "execution_count": 7,
   "metadata": {},
   "outputs": [
    {
     "name": "stdout",
     "output_type": "stream",
     "text": [
      "None\n"
     ]
    }
   ],
   "source": [
    "print(l_1.display_first_data)"
   ]
  },
  {
   "cell_type": "code",
   "execution_count": null,
   "metadata": {},
   "outputs": [],
   "source": [
    "l_3 = Linked_List()"
   ]
  },
  {
   "cell_type": "code",
   "execution_count": 15,
   "metadata": {},
   "outputs": [],
   "source": [
    "def mergeLinkedList(l1,l2):\n",
    "    head_ptr = temp_ptr = Node()\n",
    "    if l1 is None:\n",
    "        return l2\n",
    "    elif l2 is None:\n",
    "        return l1\n",
    "    else:\n",
    "        while l1 or l2:\n",
    "            if l1.data < l2.data:\n",
    "                temp_ptr.next = Node(l1.data)\n",
    "                l1 = l1.next\n",
    "            elif l1.data > l2.data:\n",
    "                temp_ptr.next = Node(l2.data)\n",
    "                l2 = l2.next\n",
    "            else:\n",
    "                temp_ptr.next = Node(l1.data)\n",
    "                l1 = l1.next\n",
    "                l2 = l2.next\n",
    "            \n",
    "            temp_ptr = temp_ptr.next\n",
    "        return head_ptr.next        \n",
    "                \n",
    "        "
   ]
  },
  {
   "cell_type": "code",
   "execution_count": null,
   "metadata": {},
   "outputs": [],
   "source": []
  },
  {
   "cell_type": "code",
   "execution_count": 17,
   "metadata": {},
   "outputs": [
    {
     "ename": "AttributeError",
     "evalue": "'NoneType' object has no attribute 'data'",
     "output_type": "error",
     "traceback": [
      "\u001b[1;31m---------------------------------------------------------------------------\u001b[0m",
      "\u001b[1;31mAttributeError\u001b[0m                            Traceback (most recent call last)",
      "\u001b[1;32m<ipython-input-17-3f75a688725f>\u001b[0m in \u001b[0;36m<module>\u001b[1;34m\u001b[0m\n\u001b[1;32m----> 1\u001b[1;33m \u001b[0ml_3\u001b[0m\u001b[1;33m.\u001b[0m\u001b[0mhead\u001b[0m\u001b[1;33m=\u001b[0m\u001b[0mmergeLinkedList\u001b[0m\u001b[1;33m(\u001b[0m\u001b[0ml_1\u001b[0m\u001b[1;33m.\u001b[0m\u001b[0mfirst\u001b[0m\u001b[1;33m,\u001b[0m \u001b[0ml_2\u001b[0m\u001b[1;33m.\u001b[0m\u001b[0mfirst\u001b[0m\u001b[1;33m)\u001b[0m\u001b[1;33m\u001b[0m\u001b[1;33m\u001b[0m\u001b[0m\n\u001b[0m\u001b[0;32m      2\u001b[0m \u001b[0ml_3\u001b[0m\u001b[1;33m.\u001b[0m\u001b[0mdisplay\u001b[0m\u001b[1;33m(\u001b[0m\u001b[1;33m)\u001b[0m\u001b[1;33m\u001b[0m\u001b[1;33m\u001b[0m\u001b[0m\n",
      "\u001b[1;32m<ipython-input-15-edb4c0ff0e3a>\u001b[0m in \u001b[0;36mmergeLinkedList\u001b[1;34m(l1, l2)\u001b[0m\n\u001b[0;32m      7\u001b[0m     \u001b[1;32melse\u001b[0m\u001b[1;33m:\u001b[0m\u001b[1;33m\u001b[0m\u001b[1;33m\u001b[0m\u001b[0m\n\u001b[0;32m      8\u001b[0m         \u001b[1;32mwhile\u001b[0m \u001b[0ml1\u001b[0m \u001b[1;32mor\u001b[0m \u001b[0ml2\u001b[0m\u001b[1;33m:\u001b[0m\u001b[1;33m\u001b[0m\u001b[1;33m\u001b[0m\u001b[0m\n\u001b[1;32m----> 9\u001b[1;33m             \u001b[1;32mif\u001b[0m \u001b[0ml1\u001b[0m\u001b[1;33m.\u001b[0m\u001b[0mdata\u001b[0m \u001b[1;33m<\u001b[0m \u001b[0ml2\u001b[0m\u001b[1;33m.\u001b[0m\u001b[0mdata\u001b[0m\u001b[1;33m:\u001b[0m\u001b[1;33m\u001b[0m\u001b[1;33m\u001b[0m\u001b[0m\n\u001b[0m\u001b[0;32m     10\u001b[0m                 \u001b[0mtemp_ptr\u001b[0m\u001b[1;33m.\u001b[0m\u001b[0mnext\u001b[0m \u001b[1;33m=\u001b[0m \u001b[0mNode\u001b[0m\u001b[1;33m(\u001b[0m\u001b[0ml1\u001b[0m\u001b[1;33m.\u001b[0m\u001b[0mdata\u001b[0m\u001b[1;33m)\u001b[0m\u001b[1;33m\u001b[0m\u001b[1;33m\u001b[0m\u001b[0m\n\u001b[0;32m     11\u001b[0m                 \u001b[0ml1\u001b[0m \u001b[1;33m=\u001b[0m \u001b[0ml1\u001b[0m\u001b[1;33m.\u001b[0m\u001b[0mnext\u001b[0m\u001b[1;33m\u001b[0m\u001b[1;33m\u001b[0m\u001b[0m\n",
      "\u001b[1;31mAttributeError\u001b[0m: 'NoneType' object has no attribute 'data'"
     ]
    }
   ],
   "source": [
    "l_3.head=mergeLinkedList(l_1.first, l_2.)\n",
    "l_3.display()"
   ]
  },
  {
   "cell_type": "code",
   "execution_count": 18,
   "metadata": {},
   "outputs": [
    {
     "name": "stdout",
     "output_type": "stream",
     "text": [
      "1\n",
      "2\n",
      "3\n",
      "4\n",
      "5\n",
      "6\n",
      "7\n",
      "8\n"
     ]
    }
   ],
   "source": [
    "# A single node of a singly linked list\n",
    "class Node:\n",
    "  # constructor\n",
    "  def __init__(self, data = None, next=None): \n",
    "    self.data = data\n",
    "    self.next = next\n",
    "\n",
    "# A Linked List class with a single head node\n",
    "class LinkedList:  \n",
    "  def __init__(self):  \n",
    "    self.head = None\n",
    "  \n",
    "  # insertion method for the linked list\n",
    "  def insert(self, data):\n",
    "    newNode = Node(data)\n",
    "    if(self.head):\n",
    "      current = self.head\n",
    "      while(current.next):\n",
    "        current = current.next\n",
    "      current.next = newNode\n",
    "    else:\n",
    "      self.head = newNode\n",
    "  \n",
    "  # print method for the linked list\n",
    "  def printLL(self):\n",
    "    current = self.head\n",
    "    while(current):\n",
    "      print(current.data)\n",
    "      current = current.next\n",
    "#-----------------------Merge function---------------------#\n",
    "def merge(List_1, List_2):\n",
    "    # Node for output LinkedList   \n",
    "    head_ptr = temp_ptr = Node() # head_ptr will be the head node of the output list \n",
    "    # temp_ptr will be used to insert nodes in the output list\n",
    "    \n",
    "    # Loop for merging two lists\n",
    "    # Loop terminates when both lists reaches to its end\n",
    "    while List_1 or List_2:\n",
    "        # List_1 has not reached its end\n",
    "        # and List_2 has either reached its end or its current node has data\n",
    "        # greater than or equal to the data of List_1 node\n",
    "        # than insert List_1 node in the ouput list\n",
    "        if List_1 and (not List_2 or List_1.data <= List_2.data):\n",
    "            temp_ptr.next = Node(List_1.data)\n",
    "            List_1 = List_1.next\n",
    "        # otherwise insert List_2 node in the ouput list\n",
    "        else:\n",
    "            temp_ptr.next = Node(List_2.data)\n",
    "            List_2 = List_2.next\n",
    "        # move temp_pointer to next position\n",
    "        temp_ptr = temp_ptr.next\n",
    "    # return output list\n",
    "    return head_ptr.next\n",
    "#----------------------------------------------------------#\n",
    "# Test merge() function\n",
    "# Linked List with even numbers\n",
    "LL1 = LinkedList()\n",
    "LL1.insert(2)\n",
    "LL1.insert(4)\n",
    "LL1.insert(6)\n",
    "LL1.insert(8)\n",
    "# Linked List with odd numbers\n",
    "LL2 = LinkedList()\n",
    "LL2.insert(1)\n",
    "LL2.insert(3)\n",
    "LL2.insert(5)\n",
    "LL2.insert(7)\n",
    "# Merge Function\n",
    "LL3 = LinkedList()\n",
    "LL3.head=merge(LL1.head, LL2.head)\n",
    "LL3.printLL()"
   ]
  },
  {
   "cell_type": "code",
   "execution_count": null,
   "metadata": {},
   "outputs": [],
   "source": []
  }
 ],
 "metadata": {
  "kernelspec": {
   "display_name": "Python 3",
   "language": "python",
   "name": "python3"
  },
  "language_info": {
   "codemirror_mode": {
    "name": "ipython",
    "version": 3
   },
   "file_extension": ".py",
   "mimetype": "text/x-python",
   "name": "python",
   "nbconvert_exporter": "python",
   "pygments_lexer": "ipython3",
   "version": "3.7.4"
  }
 },
 "nbformat": 4,
 "nbformat_minor": 2
}
